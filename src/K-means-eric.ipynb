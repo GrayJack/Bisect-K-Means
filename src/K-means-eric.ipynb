{
 "cells": [
  {
   "cell_type": "markdown",
   "metadata": {},
   "source": [
    "# Projeto de IA"
   ]
  },
  {
   "cell_type": "code",
   "execution_count": 1,
   "metadata": {},
   "outputs": [],
   "source": [
    "from sklearn import metrics\n",
    "import pandas as pd\n",
    "import numpy as np\n",
    "import matplotlib.pyplot as plt\n",
    "import math\n",
    "import random as rd\n",
    "\n",
    "filepath_trettel = '/home/trettel/Documents/projects/DATALAB/datasets/Iris_Data.csv'\n",
    "filepath_eric = '/home/grayjack/MySources/WorkshopML/data/Iris_Data.csv'"
   ]
  },
  {
   "cell_type": "code",
   "execution_count": 2,
   "metadata": {},
   "outputs": [
    {
     "name": "stdout",
     "output_type": "stream",
     "text": [
      "       sepal_length  sepal_width  petal_length  petal_width\n",
      "count    150.000000   150.000000    150.000000   150.000000\n",
      "mean       5.843333     3.054000      3.758667     1.198667\n",
      "std        0.828066     0.433594      1.764420     0.763161\n",
      "min        4.300000     2.000000      1.000000     0.100000\n",
      "25%        5.100000     2.800000      1.600000     0.300000\n",
      "50%        5.800000     3.000000      4.350000     1.300000\n",
      "75%        6.400000     3.300000      5.100000     1.800000\n",
      "max        7.900000     4.400000      6.900000     2.500000\n"
     ]
    }
   ],
   "source": [
    "data = pd.read_csv(filepath_eric)\n",
    "print(data.describe())"
   ]
  },
  {
   "cell_type": "code",
   "execution_count": 3,
   "metadata": {},
   "outputs": [
    {
     "data": {
      "text/html": [
       "<div>\n",
       "<style scoped>\n",
       "    .dataframe tbody tr th:only-of-type {\n",
       "        vertical-align: middle;\n",
       "    }\n",
       "\n",
       "    .dataframe tbody tr th {\n",
       "        vertical-align: top;\n",
       "    }\n",
       "\n",
       "    .dataframe thead tr th {\n",
       "        text-align: left;\n",
       "    }\n",
       "\n",
       "    .dataframe thead tr:last-of-type th {\n",
       "        text-align: right;\n",
       "    }\n",
       "</style>\n",
       "<table border=\"1\" class=\"dataframe\">\n",
       "  <thead>\n",
       "    <tr>\n",
       "      <th></th>\n",
       "      <th colspan=\"2\" halign=\"left\">sepal_length</th>\n",
       "      <th colspan=\"2\" halign=\"left\">sepal_width</th>\n",
       "      <th colspan=\"2\" halign=\"left\">petal_length</th>\n",
       "      <th colspan=\"2\" halign=\"left\">petal_width</th>\n",
       "    </tr>\n",
       "    <tr>\n",
       "      <th></th>\n",
       "      <th>mean</th>\n",
       "      <th>median</th>\n",
       "      <th>mean</th>\n",
       "      <th>median</th>\n",
       "      <th>mean</th>\n",
       "      <th>median</th>\n",
       "      <th>mean</th>\n",
       "      <th>median</th>\n",
       "    </tr>\n",
       "    <tr>\n",
       "      <th>species</th>\n",
       "      <th></th>\n",
       "      <th></th>\n",
       "      <th></th>\n",
       "      <th></th>\n",
       "      <th></th>\n",
       "      <th></th>\n",
       "      <th></th>\n",
       "      <th></th>\n",
       "    </tr>\n",
       "  </thead>\n",
       "  <tbody>\n",
       "    <tr>\n",
       "      <th>Iris-setosa</th>\n",
       "      <td>5.006</td>\n",
       "      <td>5.0</td>\n",
       "      <td>3.418</td>\n",
       "      <td>3.4</td>\n",
       "      <td>1.464</td>\n",
       "      <td>1.50</td>\n",
       "      <td>0.244</td>\n",
       "      <td>0.2</td>\n",
       "    </tr>\n",
       "    <tr>\n",
       "      <th>Iris-versicolor</th>\n",
       "      <td>5.936</td>\n",
       "      <td>5.9</td>\n",
       "      <td>2.770</td>\n",
       "      <td>2.8</td>\n",
       "      <td>4.260</td>\n",
       "      <td>4.35</td>\n",
       "      <td>1.326</td>\n",
       "      <td>1.3</td>\n",
       "    </tr>\n",
       "    <tr>\n",
       "      <th>Iris-virginica</th>\n",
       "      <td>6.588</td>\n",
       "      <td>6.5</td>\n",
       "      <td>2.974</td>\n",
       "      <td>3.0</td>\n",
       "      <td>5.552</td>\n",
       "      <td>5.55</td>\n",
       "      <td>2.026</td>\n",
       "      <td>2.0</td>\n",
       "    </tr>\n",
       "  </tbody>\n",
       "</table>\n",
       "</div>"
      ],
      "text/plain": [
       "                sepal_length        sepal_width        petal_length         \\\n",
       "                        mean median        mean median         mean median   \n",
       "species                                                                      \n",
       "Iris-setosa            5.006    5.0       3.418    3.4        1.464   1.50   \n",
       "Iris-versicolor        5.936    5.9       2.770    2.8        4.260   4.35   \n",
       "Iris-virginica         6.588    6.5       2.974    3.0        5.552   5.55   \n",
       "\n",
       "                petal_width         \n",
       "                       mean median  \n",
       "species                             \n",
       "Iris-setosa           0.244    0.2  \n",
       "Iris-versicolor       1.326    1.3  \n",
       "Iris-virginica        2.026    2.0  "
      ]
     },
     "execution_count": 3,
     "metadata": {},
     "output_type": "execute_result"
    }
   ],
   "source": [
    "data.groupby('species').agg(['mean', 'median'])\n",
    "data.groupby('species').agg([np.mean, np.median])"
   ]
  },
  {
   "cell_type": "code",
   "execution_count": 4,
   "metadata": {},
   "outputs": [
    {
     "data": {
      "text/plain": [
       "<matplotlib.axes._subplots.AxesSubplot at 0x7f9725780390>"
      ]
     },
     "execution_count": 4,
     "metadata": {},
     "output_type": "execute_result"
    },
    {
     "data": {
      "image/png": "[encoded data removed]",
      "text/plain": [
       "<Figure size 432x288 with 2 Axes>"
      ]
     },
     "metadata": {
      "needs_background": "light"
     },
     "output_type": "display_data"
    }
   ],
   "source": [
    "num = {val:i for i,val in enumerate(set(data.species))}\n",
    "y_true = [num[item] for item in data.species]\n",
    "\n",
    "data.plot.scatter(x=\"petal_length\", y=\"petal_width\", c=y_true, colormap='viridis')"
   ]
  },
  {
   "cell_type": "code",
   "execution_count": 5,
   "metadata": {},
   "outputs": [],
   "source": [
    "def plotter(doc, ks, label):\n",
    "    X,Y = zip(*doc)\n",
    "    kx,ky = zip(*ks)\n",
    "\n",
    "    plt.scatter(x=X,y=Y, marker='o', c=label)\n",
    "    plt.scatter(x=kx, y=ky, marker='x', color='black', s=150)"
   ]
  },
  {
   "cell_type": "code",
   "execution_count": 6,
   "metadata": {},
   "outputs": [],
   "source": [
    "def euclidianDistance(p1, p2):\n",
    "    return math.sqrt( (p1[0] - p2[0])**2 + (p1[1] - p2[1])**2 )"
   ]
  },
  {
   "cell_type": "code",
   "execution_count": 7,
   "metadata": {},
   "outputs": [],
   "source": [
    "def goCondition(old_centroids, curr_centroids, itter):\n",
    "    if itter >= MAX_ITER: return False    \n",
    "    \n",
    "    ctd = 0\n",
    "    for old_centroid,curr_centroid in zip(old_centroids,curr_centroids):\n",
    "        if abs(old_centroid[0]-curr_centroid[0]) <= 0.001 and\\\n",
    "           abs(old_centroid[1]-curr_centroid[1]) <= 0.001:\n",
    "               ctd += 1\n",
    "    if ctd == len(curr_centroids): return False\n",
    "    \n",
    "    return True"
   ]
  },
  {
   "cell_type": "code",
   "execution_count": 8,
   "metadata": {},
   "outputs": [],
   "source": [
    "def calculateAllDistances(positions, centroids, distFunction=euclidianDistance):\n",
    "    distances = list()\n",
    "    for pos in positions:\n",
    "        list_per_cent = list()\n",
    "        for index, cent in enumerate(centroids):\n",
    "            list_per_cent.append(distFunction(cent, pos))\n",
    "\n",
    "        distances.append(list_per_cent)\n",
    "\n",
    "    return distances"
   ]
  },
  {
   "cell_type": "code",
   "execution_count": 9,
   "metadata": {},
   "outputs": [],
   "source": [
    "def giveOwnership(distances):\n",
    "    label = list()\n",
    "    for dist in distances:\n",
    "        min_dist = min(dist)\n",
    "        label.append(dist.index(min_dist))\n",
    "\n",
    "    return label"
   ]
  },
  {
   "cell_type": "code",
   "execution_count": 10,
   "metadata": {},
   "outputs": [],
   "source": [
    "def generateCentroids(list_x, list_y, k):\n",
    "    (min_x, min_y) = (min(list_x)-(min(list_x)*0.2),\\\n",
    "                      min(list_y)-(min(list_y)*0.2))\n",
    "    (max_x, max_y) = (max(list_x)+(max(list_x)*0.2),\\\n",
    "                      max(list_y)+(max(list_y)*0.2))\n",
    "\n",
    "    return [(rd.uniform(min_x, max_x), rd.uniform(min_y, max_y)) for i in range(k)]"
   ]
  },
  {
   "cell_type": "code",
   "execution_count": 11,
   "metadata": {},
   "outputs": [],
   "source": [
    "def updateCentroids(positions, labels, k):\n",
    "    new_centroids = list()\n",
    "    for i in range(k):\n",
    "        qtd = len([x for x in labels if x == i])\n",
    "        point = [0, 0]\n",
    "        for j, pos in enumerate(positions):\n",
    "            if labels[j] == i:\n",
    "                point[0] += pos[0]\n",
    "                point[1] += pos[1]\n",
    "\n",
    "        point[0] /= qtd + 0.000000000001\n",
    "        point[1] /= qtd + 0.000000000001\n",
    "        new_centroids.append((point[0], point[1]))\n",
    "\n",
    "    return new_centroids"
   ]
  },
  {
   "cell_type": "code",
   "execution_count": 12,
   "metadata": {},
   "outputs": [],
   "source": [
    "def kmeans(list_x, list_y, k=1, iter_times=100000, distFunction=euclidianDistance):\n",
    "    positions = list(zip(list_x, list_y))\n",
    "    centroids = generateCentroids(list_x, list_y, k)\n",
    "    distances = calculateAllDistances(positions, centroids, distFunction)\n",
    "    labels = giveOwnership(distances)\n",
    "\n",
    "    iter = 0\n",
    "    has_changed = True\n",
    "\n",
    "    while has_changed and iter <= iter_times:\n",
    "        centroids = updateCentroids(positions, labels, k)\n",
    "        distances = calculateAllDistances(positions, centroids, distFunction)\n",
    "        labels = giveOwnership(distances)\n",
    "\n",
    "        iter += 1\n",
    "\n",
    "    return labels, centroids"
   ]
  },
  {
   "cell_type": "code",
   "execution_count": 13,
   "metadata": {},
   "outputs": [
    {
     "name": "stdout",
     "output_type": "stream",
     "text": [
      "Melhor valor para o K:   5\n",
      "Obtendo uma acurácia de: 0.8365829144738788 (v_measure_score) \n",
      "\n"
     ]
    },
    {
     "data": {
      "image/png": "[encoded data removed]",
      "text/plain": [
       "<Figure size 432x288 with 1 Axes>"
      ]
     },
     "metadata": {
      "needs_background": "light"
     },
     "output_type": "display_data"
    }
   ],
   "source": [
    "MAX_ITER = 15\n",
    "document = zip(data.petal_length, data.petal_width)\n",
    "\n",
    "best_accuracy = -1\n",
    "best_centr = None\n",
    "y_pred = []\n",
    "best_label = []\n",
    "best_k = 0\n",
    "\n",
    "for K in range(1, 50):\n",
    "    y_pred, centroids = kmeans(data.petal_length, data.petal_width, k=K, iter_times=MAX_ITER, distFunction=euclidianDistance)\n",
    "    \n",
    "#     accuracy = metrics.adjusted_rand_score(y_true, y_pred)\n",
    "    accuracy = metrics.v_measure_score(y_true, y_pred)\n",
    "\n",
    "    if accuracy >= best_accuracy:\n",
    "        best_accuracy = accuracy\n",
    "        best_centr = centroids\n",
    "        best_k = K\n",
    "        best_label = y_pred\n",
    "    \n",
    "print(f\"Melhor valor para o K:   {best_k}\\nObtendo uma acurácia de: {best_accuracy} (v_measure_score) \\n\")\n",
    "plotter(document, best_centr, best_label)"
   ]
  },
  {
   "cell_type": "code",
   "execution_count": null,
   "metadata": {},
   "outputs": [],
   "source": []
  }
 ],
 "metadata": {
  "kernelspec": {
   "display_name": "Python 3",
   "language": "python",
   "name": "python3"
  },
  "language_info": {
   "codemirror_mode": {
    "name": "ipython",
    "version": 3
   },
   "file_extension": ".py",
   "mimetype": "text/x-python",
   "name": "python",
   "nbconvert_exporter": "python",
   "pygments_lexer": "ipython3",
   "version": "3.7.1"
  }
 },
 "nbformat": 4,
 "nbformat_minor": 2
}
