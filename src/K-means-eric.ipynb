{
 "cells": [
  {
   "cell_type": "markdown",
   "metadata": {},
   "source": [
    "# Projeto de IA"
   ]
  },
  {
   "cell_type": "code",
   "execution_count": 1,
   "metadata": {},
   "outputs": [],
   "source": [
    "from sklearn import metrics\n",
    "from time import time\n",
    "import pandas as pd\n",
    "import numpy as np\n",
    "import matplotlib.pyplot as plt\n",
    "import math\n",
    "import random as rd\n",
    "\n",
    "filepath_trettel = '/home/trettel/Documents/projects/DATALAB/datasets/Iris_Data.csv'\n",
    "filepath_eric = '/home/grayjack/MySources/WorkshopML/data/Iris_Data.csv'\n",
    "filepath_marcelo = '/home/maru/Projects/ia_docs/Iris_Data.csv'"
   ]
  },
  {
   "cell_type": "code",
   "execution_count": 2,
   "metadata": {},
   "outputs": [
    {
     "name": "stdout",
     "output_type": "stream",
     "text": [
      "       sepal_length  sepal_width  petal_length  petal_width\n",
      "count    150.000000   150.000000    150.000000   150.000000\n",
      "mean       5.843333     3.054000      3.758667     1.198667\n",
      "std        0.828066     0.433594      1.764420     0.763161\n",
      "min        4.300000     2.000000      1.000000     0.100000\n",
      "25%        5.100000     2.800000      1.600000     0.300000\n",
      "50%        5.800000     3.000000      4.350000     1.300000\n",
      "75%        6.400000     3.300000      5.100000     1.800000\n",
      "max        7.900000     4.400000      6.900000     2.500000\n"
     ]
    }
   ],
   "source": [
    "data = pd.read_csv(filepath_eric)\n",
    "print(data.describe())"
   ]
  },
  {
   "cell_type": "markdown",
   "metadata": {},
   "source": [
    "## Criando agrupamento do database\n",
    "\n",
    "Usando pandas estraimos as informações do database que utilizamos"
   ]
  },
  {
   "cell_type": "code",
   "execution_count": 3,
   "metadata": {},
   "outputs": [
    {
     "data": {
      "text/html": [
       "<div>\n",
       "<style scoped>\n",
       "    .dataframe tbody tr th:only-of-type {\n",
       "        vertical-align: middle;\n",
       "    }\n",
       "\n",
       "    .dataframe tbody tr th {\n",
       "        vertical-align: top;\n",
       "    }\n",
       "\n",
       "    .dataframe thead tr th {\n",
       "        text-align: left;\n",
       "    }\n",
       "\n",
       "    .dataframe thead tr:last-of-type th {\n",
       "        text-align: right;\n",
       "    }\n",
       "</style>\n",
       "<table border=\"1\" class=\"dataframe\">\n",
       "  <thead>\n",
       "    <tr>\n",
       "      <th></th>\n",
       "      <th colspan=\"2\" halign=\"left\">sepal_length</th>\n",
       "      <th colspan=\"2\" halign=\"left\">sepal_width</th>\n",
       "      <th colspan=\"2\" halign=\"left\">petal_length</th>\n",
       "      <th colspan=\"2\" halign=\"left\">petal_width</th>\n",
       "    </tr>\n",
       "    <tr>\n",
       "      <th></th>\n",
       "      <th>mean</th>\n",
       "      <th>median</th>\n",
       "      <th>mean</th>\n",
       "      <th>median</th>\n",
       "      <th>mean</th>\n",
       "      <th>median</th>\n",
       "      <th>mean</th>\n",
       "      <th>median</th>\n",
       "    </tr>\n",
       "    <tr>\n",
       "      <th>species</th>\n",
       "      <th></th>\n",
       "      <th></th>\n",
       "      <th></th>\n",
       "      <th></th>\n",
       "      <th></th>\n",
       "      <th></th>\n",
       "      <th></th>\n",
       "      <th></th>\n",
       "    </tr>\n",
       "  </thead>\n",
       "  <tbody>\n",
       "    <tr>\n",
       "      <th>Iris-setosa</th>\n",
       "      <td>5.006</td>\n",
       "      <td>5.0</td>\n",
       "      <td>3.418</td>\n",
       "      <td>3.4</td>\n",
       "      <td>1.464</td>\n",
       "      <td>1.50</td>\n",
       "      <td>0.244</td>\n",
       "      <td>0.2</td>\n",
       "    </tr>\n",
       "    <tr>\n",
       "      <th>Iris-versicolor</th>\n",
       "      <td>5.936</td>\n",
       "      <td>5.9</td>\n",
       "      <td>2.770</td>\n",
       "      <td>2.8</td>\n",
       "      <td>4.260</td>\n",
       "      <td>4.35</td>\n",
       "      <td>1.326</td>\n",
       "      <td>1.3</td>\n",
       "    </tr>\n",
       "    <tr>\n",
       "      <th>Iris-virginica</th>\n",
       "      <td>6.588</td>\n",
       "      <td>6.5</td>\n",
       "      <td>2.974</td>\n",
       "      <td>3.0</td>\n",
       "      <td>5.552</td>\n",
       "      <td>5.55</td>\n",
       "      <td>2.026</td>\n",
       "      <td>2.0</td>\n",
       "    </tr>\n",
       "  </tbody>\n",
       "</table>\n",
       "</div>"
      ],
      "text/plain": [
       "                sepal_length        sepal_width        petal_length         \\\n",
       "                        mean median        mean median         mean median   \n",
       "species                                                                      \n",
       "Iris-setosa            5.006    5.0       3.418    3.4        1.464   1.50   \n",
       "Iris-versicolor        5.936    5.9       2.770    2.8        4.260   4.35   \n",
       "Iris-virginica         6.588    6.5       2.974    3.0        5.552   5.55   \n",
       "\n",
       "                petal_width         \n",
       "                       mean median  \n",
       "species                             \n",
       "Iris-setosa           0.244    0.2  \n",
       "Iris-versicolor       1.326    1.3  \n",
       "Iris-virginica        2.026    2.0  "
      ]
     },
     "execution_count": 3,
     "metadata": {},
     "output_type": "execute_result"
    }
   ],
   "source": [
    "data.groupby('species').agg(['mean', 'median'])\n",
    "data.groupby('species').agg([np.mean, np.median])"
   ]
  },
  {
   "cell_type": "markdown",
   "metadata": {},
   "source": [
    "E então, a partir do database, conseguimos pegar os valores verdadeiros para ser usado como dados de validação mais tarde"
   ]
  },
  {
   "cell_type": "code",
   "execution_count": 4,
   "metadata": {},
   "outputs": [
    {
     "data": {
      "text/plain": [
       "<matplotlib.axes._subplots.AxesSubplot at 0x7f423d583208>"
      ]
     },
     "execution_count": 4,
     "metadata": {},
     "output_type": "execute_result"
    },
    {
     "data": {
      "image/png": "[encoded data removed]",
      "text/plain": [
       "<Figure size 432x288 with 2 Axes>"
      ]
     },
     "metadata": {
      "needs_background": "light"
     },
     "output_type": "display_data"
    }
   ],
   "source": [
    "num = {val:i for i,val in enumerate(set(data.species))}\n",
    "y_true = [num[item] for item in data.species]\n",
    "\n",
    "data.plot.scatter(x=\"petal_length\", y=\"petal_width\", c=y_true, colormap='viridis')"
   ]
  },
  {
   "cell_type": "markdown",
   "metadata": {},
   "source": [
    "## Definindo nossa versão do algorítimo\n",
    "\n",
    "Basicamente o K-Means foi dividido em várias sub-funções com o intuito de facilitar o entendimento total da função."
   ]
  },
  {
   "cell_type": "code",
   "execution_count": 5,
   "metadata": {},
   "outputs": [],
   "source": [
    "def plotter(doc, ks, label):\n",
    "    X,Y = zip(*doc)\n",
    "    kx,ky = zip(*ks)\n",
    "\n",
    "    plt.scatter(x=X,y=Y, marker='o', c=label)\n",
    "    plt.scatter(x=kx, y=ky, marker='x', color='black', s=150)\n",
    "    \n",
    "def plotter2(doc):\n",
    "    X,Y = zip(*doc)\n",
    "    plt.scatter(x=X,y=Y, marker='o')"
   ]
  },
  {
   "cell_type": "markdown",
   "metadata": {},
   "source": [
    "Usamos a princípio a distância euclidiana por ser bem fácil de ser implementada em Python"
   ]
  },
  {
   "cell_type": "code",
   "execution_count": 6,
   "metadata": {},
   "outputs": [],
   "source": [
    "def euclidianDistance(p1, p2):\n",
    "    return math.sqrt( (p1[0] - p2[0])**2 + (p1[1] - p2[1])**2 )"
   ]
  },
  {
   "cell_type": "markdown",
   "metadata": {},
   "source": [
    "Criamos uma heurística que segue os seguintes critérios:\n",
    " - Se iterador maior que um máximo de iterações, retorna falso;\n",
    " - Se a deferença da distância dos centróides for menor ou igual a 0.001, são basicamente iguais então podemos contar como iguais e aumentar o contador de centroides basicmanete imóveis;\n",
    " - Se todos os centroides forem praticamente iguais, não teve alteração significativa, retorna falso para quebrar o laço;\n",
    " - Quaisquer outros resultados são verdadeiros."
   ]
  },
  {
   "cell_type": "code",
   "execution_count": 7,
   "metadata": {},
   "outputs": [],
   "source": [
    "def goCondition(old_centroids, curr_centroids, itter, iter_times):\n",
    "    if itter >= iter_times: return False    \n",
    "    \n",
    "    ctd = 0\n",
    "    for old_centroid,curr_centroid in zip(old_centroids,curr_centroids):\n",
    "        if abs(old_centroid[0]-curr_centroid[0]) <= 0.001 and\\\n",
    "           abs(old_centroid[1]-curr_centroid[1]) <= 0.001:\n",
    "               ctd += 1\n",
    "    if ctd == len(curr_centroids): return False\n",
    "    \n",
    "    return True"
   ]
  },
  {
   "cell_type": "code",
   "execution_count": 8,
   "metadata": {},
   "outputs": [],
   "source": [
    "def calculateAllDistances(positions, centroids, distFunction=euclidianDistance):\n",
    "    distances = list()\n",
    "    for pos in positions:\n",
    "        list_per_cent = list()\n",
    "        for index, cent in enumerate(centroids):\n",
    "            list_per_cent.append(distFunction(cent, pos))\n",
    "\n",
    "        distances.append(list_per_cent)\n",
    "\n",
    "    return distances"
   ]
  },
  {
   "cell_type": "markdown",
   "metadata": {},
   "source": [
    "A função `giveOwnership()` basicamente determina quais pontos pertencem a quais centróides.\n",
    "\n",
    "É determidado da seguinte forma:\n",
    " - Dado uma lista das distância de cada ponto até os centróides, o ponto pertence ao centróide mais próximo dele.\n",
    " \n",
    "Retorna uma lista do mesmo tamanho da quantidade de itens/posições do database."
   ]
  },
  {
   "cell_type": "code",
   "execution_count": 9,
   "metadata": {},
   "outputs": [],
   "source": [
    "def giveOwnership(distances):\n",
    "    label = list()\n",
    "    for dist in distances:\n",
    "        min_dist = min(dist)\n",
    "        label.append(dist.index(min_dist))\n",
    "\n",
    "    return label"
   ]
  },
  {
   "cell_type": "code",
   "execution_count": 10,
   "metadata": {},
   "outputs": [],
   "source": [
    "def generateCentroids(list_x, list_y, k):\n",
    "    (min_x, min_y) = (min(list_x)-(min(list_x)*0.2),\\\n",
    "                      min(list_y)-(min(list_y)*0.2))\n",
    "    (max_x, max_y) = (max(list_x)+(max(list_x)*0.2),\\\n",
    "                      max(list_y)+(max(list_y)*0.2))\n",
    "\n",
    "    return [(rd.uniform(min_x, max_x), rd.uniform(min_y, max_y)) for i in range(k)]"
   ]
  },
  {
   "cell_type": "markdown",
   "metadata": {},
   "source": [
    "`updateCentroids()` é de certa forma peça importante para o desempenho do algorítmo no geral.\n",
    "\n",
    "Dado que a variável `labels` é uma lista, percorre-la custaria `O(n)`, e se fossemos varrer o vetor para pegar cada índice de `labels` e seus pontos equivalentes, varreríamos esta variável _k_ vezes (quantidade de centróides), ou seja, um total de `O(kn)`.\n",
    "\n",
    "Mas neste caso, usamos um dicionário, uma estrutura de dados \"_hashable_\", ou seja, forma uma tabela hash e nesse caso conseguimos acessá-las em tempo `O(1)`.\n",
    "Então iteramos em cima de posições e rótulos das posições e se o rótulo não tiver no dicionário, adiciona-o e os dá o valor da posição atual, e se existir apenas adicionamos os valores dessa posição em cima de seu rótulo.\n",
    "Com isso ficamos com `O(n)`\n",
    "\n",
    "Usando deste artifício, conseguimos uma melhora de cerca de 50% na velocidade de processamento."
   ]
  },
  {
   "cell_type": "code",
   "execution_count": 11,
   "metadata": {},
   "outputs": [],
   "source": [
    "def updateCentroids(positions, labels, k):\n",
    "    centroids = dict()\n",
    "    for p,label in zip(positions,labels):\n",
    "        if label not in centroids:\n",
    "            centroids[label] = {\"x\":p[0], \"y\":p[1], \"len\":1}\n",
    "        else:\n",
    "            centroids[label][\"x\"] += p[0]\n",
    "            centroids[label][\"y\"] += p[1]\n",
    "            centroids[label][\"len\"] += 1\n",
    " \n",
    "        \n",
    "    return [(c['x']/c['len'], c['y']/c['len']) for c in centroids.values()]"
   ]
  },
  {
   "cell_type": "code",
   "execution_count": 12,
   "metadata": {},
   "outputs": [],
   "source": [
    "def kmeans(list_x, list_y, k=1, iter_times=50, distFunction=euclidianDistance):\n",
    "    positions = list(zip(list_x, list_y))\n",
    "    curr_centroids = generateCentroids(list_x, list_y, k)\n",
    "    old_centroids = generateCentroids(list_x, list_y, k)\n",
    "    distances = calculateAllDistances(positions, curr_centroids, distFunction)\n",
    "    labels = giveOwnership(distances)\n",
    "\n",
    "    itter = 0\n",
    "    while goCondition(old_centroids, curr_centroids, itter, iter_times):\n",
    "        old_centroids = curr_centroids\n",
    "        curr_centroids = updateCentroids(positions, labels, k)\n",
    "        new_distances = calculateAllDistances(positions, curr_centroids, distFunction)\n",
    "        labels = giveOwnership(new_distances)\n",
    "\n",
    "        itter += 1\n",
    "\n",
    "    return labels, curr_centroids"
   ]
  },
  {
   "cell_type": "markdown",
   "metadata": {},
   "source": [
    "Agora, para um máximo de iterações interna do _k-means_ igual a 15 e para um _k_ entre 1 e 30 e então armazenamos o melhor resultado dessa rodada e \"plotamos\"."
   ]
  },
  {
   "cell_type": "code",
   "execution_count": 13,
   "metadata": {},
   "outputs": [
    {
     "name": "stdout",
     "output_type": "stream",
     "text": [
      "Melhor valor para o K:   4\n",
      "Obtendo uma acurácia de: 0.8641855068202222 (v_measure_score) \n",
      "\n",
      "Tempo: 0.21666574478149414\n"
     ]
    },
    {
     "data": {
      "image/png": "[encoded data removed]",
      "text/plain": [
       "<Figure size 432x288 with 1 Axes>"
      ]
     },
     "metadata": {
      "needs_background": "light"
     },
     "output_type": "display_data"
    }
   ],
   "source": [
    "MAX_ITER = 15\n",
    "document = zip(data.petal_length, data.petal_width)\n",
    "\n",
    "best_accuracy = -1\n",
    "best_centr = None\n",
    "y_pred = []\n",
    "best_label = []\n",
    "best_k = 0\n",
    "\n",
    "inicio = time()\n",
    "for K in range(1, 30):\n",
    "    y_pred, centroids = kmeans(data.petal_length, data.petal_width, k=K, iter_times=MAX_ITER, distFunction=euclidianDistance)\n",
    "\n",
    "#     accuracy = metrics.adjusted_rand_score(y_true, y_pred)\n",
    "    try:\n",
    "        accuracy = metrics.v_measure_score(y_true, y_pred)\n",
    "    except:\n",
    "        print(y_pred)\n",
    "\n",
    "    if accuracy >= best_accuracy:\n",
    "        best_accuracy = accuracy\n",
    "        best_centr = centroids\n",
    "        best_k = K\n",
    "        best_label = y_pred\n",
    "\n",
    "final = time()\n",
    "    \n",
    "print(f\"Melhor valor para o K:   {best_k}\\nObtendo uma acurácia de: {best_accuracy} (v_measure_score) \\n\\nTempo: {final-inicio}\")\n",
    "plotter(document, best_centr, best_label)"
   ]
  },
  {
   "cell_type": "markdown",
   "metadata": {},
   "source": [
    "E claro, não poderia faltar um gráfico de relação entre K e acurácia resultante"
   ]
  },
  {
   "cell_type": "code",
   "execution_count": 14,
   "metadata": {},
   "outputs": [
    {
     "name": "stdout",
     "output_type": "stream",
     "text": [
      "Time: 0.11286115646362305\n",
      "\n",
      "Gráfico: K por Acurácia\n"
     ]
    },
    {
     "data": {
      "image/png": "[encoded data removed]",
      "text/plain": [
       "<Figure size 432x288 with 1 Axes>"
      ]
     },
     "metadata": {
      "needs_background": "light"
     },
     "output_type": "display_data"
    }
   ],
   "source": [
    "document = []\n",
    "\n",
    "inicio = time()\n",
    "for K in range(1, 20):\n",
    "    y_pred, _ = kmeans(data.petal_length, data.petal_width, k=K, iter_times=MAX_ITER, distFunction=euclidianDistance)\n",
    "\n",
    "#     accuracy = metrics.adjusted_rand_score(y_true, y_pred)\n",
    "    try:\n",
    "        accuracy = metrics.v_measure_score(y_true, y_pred)\n",
    "    except:\n",
    "        print(y_pred)\n",
    "\n",
    "    document.append((K, accuracy))\n",
    "\n",
    "final = time()\n",
    "\n",
    "plotter2(document)\n",
    "\n",
    "print(f\"Time: {final-inicio}\\n\\nGráfico: K por Acurácia\")"
   ]
  },
  {
   "cell_type": "code",
   "execution_count": null,
   "metadata": {},
   "outputs": [],
   "source": []
  }
 ],
 "metadata": {
  "kernelspec": {
   "display_name": "Python 3",
   "language": "python",
   "name": "python3"
  },
  "language_info": {
   "codemirror_mode": {
    "name": "ipython",
    "version": 3
   },
   "file_extension": ".py",
   "mimetype": "text/x-python",
   "name": "python",
   "nbconvert_exporter": "python",
   "pygments_lexer": "ipython3",
   "version": "3.7.1"
  }
 },
 "nbformat": 4,
 "nbformat_minor": 2
}
