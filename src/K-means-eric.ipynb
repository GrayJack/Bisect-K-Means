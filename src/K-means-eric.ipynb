{
 "cells": [
  {
   "cell_type": "markdown",
   "metadata": {},
   "source": [
    "# Projeto de IA"
   ]
  },
  {
   "cell_type": "code",
   "execution_count": 26,
   "metadata": {},
   "outputs": [],
   "source": [
    "import seaborn as sns\n",
    "import pandas as pd\n",
    "import matplotlib.pyplot as plt\n",
    "from sklearn import datasets\n",
    "from sklearn.decomposition import PCA\n",
    "from random import uniform\n",
    "import math\n",
    "import random as rd\n",
    "\n",
    "MAX_ITER = 15"
   ]
  },
  {
   "cell_type": "code",
   "execution_count": 27,
   "metadata": {},
   "outputs": [],
   "source": [
    "iris = datasets.load_iris()\n",
    "\n"
   ]
  },
  {
   "cell_type": "code",
   "execution_count": null,
   "metadata": {},
   "outputs": [],
   "source": []
  },
  {
   "cell_type": "code",
   "execution_count": 28,
   "metadata": {},
   "outputs": [],
   "source": [
    "def plotter(doc, ks, label):\n",
    "    X,Y = zip(*doc)\n",
    "    kx,ky = zip(*ks)\n",
    "\n",
    "    plt.scatter(x=X,y=Y, marker='o', c=label)\n",
    "    plt.scatter(x=kx, y=ky, marker='x', color='black', s=150)\n"
   ]
  },
  {
   "cell_type": "code",
   "execution_count": 29,
   "metadata": {},
   "outputs": [],
   "source": [
    "def euclidianDistance(p1, p2):\n",
    "    return math.sqrt( (p1[0] - p2[0])**2 + (p1[1] - p2[1])**2 )"
   ]
  },
  {
   "cell_type": "code",
   "execution_count": 30,
   "metadata": {},
   "outputs": [],
   "source": [
    "def goCondition(old_centroids, curr_centroids, itter):\n",
    "    if itter >= MAX_ITER: return False    \n",
    "    \n",
    "    ctd = 0\n",
    "    for old_centroid,curr_centroid in zip(old_centroids,curr_centroids):\n",
    "        if abs(old_centroid[0]-curr_centroid[0]) <= 0.001 and\\\n",
    "           abs(old_centroid[1]-curr_centroid[1]) <= 0.001:\n",
    "               ctd += 1\n",
    "    if ctd == len(curr_centroids): return False\n",
    "    \n",
    "    return True\n",
    "    "
   ]
  },
  {
   "cell_type": "code",
   "execution_count": 37,
   "metadata": {},
   "outputs": [],
   "source": [
    "def calculateAllDistances(positions, centroids, distFunction=euclidianDistance):\n",
    "    distances = list()\n",
    "    for pos in positions:\n",
    "        list_per_cent = list()\n",
    "        for index, cent in enumerate(centroids):\n",
    "            list_per_cent.append(distFunction(cent, pos))\n",
    "\n",
    "        distances.append(list_per_cent)\n",
    "\n",
    "    return distances"
   ]
  },
  {
   "cell_type": "code",
   "execution_count": 38,
   "metadata": {},
   "outputs": [],
   "source": [
    "def giveOwnership(distances):\n",
    "    label = list()\n",
    "    for dist in distances:\n",
    "        min_dist = min(dist)\n",
    "        label.append(dist.index(min_dist))\n",
    "\n",
    "    return label\n"
   ]
  },
  {
   "cell_type": "code",
   "execution_count": 44,
   "metadata": {},
   "outputs": [],
   "source": [
    "def generateCentroids(list_x, list_y, k):\n",
    "    (min_x, min_y) = (min(list_x)-(min(list_x)*0.2),\\\n",
    "                      min(list_y)-(min(list_y)*0.2))\n",
    "    (max_x, max_y) = (max(list_x)+(max(list_x)*0.2),\\\n",
    "                      max(list_y)+(max(list_y)*0.2))\n",
    "\n",
    "    return [(uniform(min_x, max_x), uniform(min_y, max_y)) for i in range(k)]"
   ]
  },
  {
   "cell_type": "code",
   "execution_count": 45,
   "metadata": {},
   "outputs": [],
   "source": [
    "def updateCentroids(positions, labels, k):\n",
    "    new_centroids = list()\n",
    "    for i in range(k):\n",
    "        qtd = len([x for x in labels if x == i])\n",
    "        point = [0, 0]\n",
    "        for j, pos in enumerate(positions):\n",
    "            if labels[j] == i:\n",
    "                point[0] += pos[0]\n",
    "                point[1] += pos[1]\n",
    "\n",
    "        point[0] /= qtd + 0.000000000001\n",
    "        point[1] /= qtd + 0.000000000001\n",
    "        new_centroids.append((point[0], point[1]))\n",
    "\n",
    "    return new_centroids\n"
   ]
  },
  {
   "cell_type": "code",
   "execution_count": 46,
   "metadata": {},
   "outputs": [],
   "source": [
    "def kmeans(list_x, list_y, k=1, iter_times=100000, distFunction=euclidianDistance):\n",
    "    positions = list(zip(list_x, list_y))\n",
    "    centroids = generateCentroids(list_x, list_y, k)\n",
    "    distances = calculateAllDistances(positions, centroids, distFunction)\n",
    "    labels = giveOwnership(distances)\n",
    "\n",
    "    iter = 0\n",
    "    has_changed = True\n",
    "\n",
    "    while has_changed and iter <= iter_times:\n",
    "        centroids = updateCentroids(positions, labels, k)\n",
    "        distances = calculateAllDistances(positions, centroids, distFunction)\n",
    "        labels = giveOwnership(distances)\n",
    "\n",
    "        iter += 1\n",
    "\n",
    "    return labels, centroids\n"
   ]
  },
  {
   "cell_type": "code",
   "execution_count": 80,
   "metadata": {},
   "outputs": [
    {
     "name": "stdout",
     "output_type": "stream",
     "text": [
      "[1, 1, 1, 0, 0, 1, 0, 1, 1]\n"
     ]
    },
    {
     "data": {
      "image/png": "[encoded data removed]",
      "text/plain": [
       "<Figure size 432x288 with 1 Axes>"
      ]
     },
     "metadata": {
      "needs_background": "light"
     },
     "output_type": "display_data"
    }
   ],
   "source": [
    "vecx = [1, 2, 2, 1, 3, 4, 4, 5, 6]\n",
    "vecy = [1, 1, 2, 3, 5, 3, 4, 3, 3]\n",
    "\n",
    "K = 2\n",
    "\n",
    "label, centroids = kmeans(vecx, vecy, k=K, distFunction=euclidianDistance)\n",
    "print(label)\n",
    "plotter(zip(vecx, vecy), centroids, label)\n"
   ]
  },
  {
   "cell_type": "code",
   "execution_count": null,
   "metadata": {},
   "outputs": [],
   "source": []
  },
  {
   "cell_type": "code",
   "execution_count": null,
   "metadata": {},
   "outputs": [],
   "source": []
  },
  {
   "cell_type": "code",
   "execution_count": null,
   "metadata": {},
   "outputs": [],
   "source": []
  },
  {
   "cell_type": "code",
   "execution_count": null,
   "metadata": {},
   "outputs": [],
   "source": []
  },
  {
   "cell_type": "code",
   "execution_count": null,
   "metadata": {},
   "outputs": [],
   "source": []
  },
  {
   "cell_type": "code",
   "execution_count": null,
   "metadata": {},
   "outputs": [],
   "source": []
  },
  {
   "cell_type": "code",
   "execution_count": null,
   "metadata": {},
   "outputs": [],
   "source": []
  },
  {
   "cell_type": "code",
   "execution_count": null,
   "metadata": {},
   "outputs": [],
   "source": []
  },
  {
   "cell_type": "code",
   "execution_count": null,
   "metadata": {},
   "outputs": [],
   "source": []
  },
  {
   "cell_type": "code",
   "execution_count": null,
   "metadata": {},
   "outputs": [],
   "source": []
  }
 ],
 "metadata": {
  "kernelspec": {
   "display_name": "Python 3",
   "language": "python",
   "name": "python3"
  },
  "language_info": {
   "codemirror_mode": {
    "name": "ipython",
    "version": 3
   },
   "file_extension": ".py",
   "mimetype": "text/x-python",
   "name": "python",
   "nbconvert_exporter": "python",
   "pygments_lexer": "ipython3",
   "version": "3.7.1"
  }
 },
 "nbformat": 4,
 "nbformat_minor": 2
}
