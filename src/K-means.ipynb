{
 "cells": [
  {
   "cell_type": "markdown",
   "metadata": {},
   "source": [
    "# Projeto de IA"
   ]
  },
  {
   "cell_type": "code",
   "execution_count": 272,
   "metadata": {},
   "outputs": [],
   "source": [
    "import seaborn as sns\n",
    "import pandas as pd\n",
    "import matplotlib.pyplot as plt\n",
    "from sklearn import datasets\n",
    "from sklearn.decomposition import PCA\n",
    "import math\n",
    "import random as rd\n",
    "\n",
    "MAX_ITER = 15"
   ]
  },
  {
   "cell_type": "code",
   "execution_count": 597,
   "metadata": {},
   "outputs": [
    {
     "name": "stdout",
     "output_type": "stream",
     "text": [
      "5.1\n"
     ]
    }
   ],
   "source": [
    "iris = datasets.load_iris()\n",
    "\n"
   ]
  },
  {
   "cell_type": "code",
   "execution_count": null,
   "metadata": {},
   "outputs": [],
   "source": []
  },
  {
   "cell_type": "code",
   "execution_count": 295,
   "metadata": {},
   "outputs": [],
   "source": [
    "def plotter(doc, ks, label):\n",
    "    X,Y = zip(*doc)\n",
    "    kx,ky = zip(*ks)\n",
    "\n",
    "    plt.scatter(x=X,y=Y, marker='o', c=label)\n",
    "    plt.scatter(x=kx, y=ky, marker='x', color='black', s=150)\n"
   ]
  },
  {
   "cell_type": "code",
   "execution_count": 296,
   "metadata": {},
   "outputs": [],
   "source": [
    "def euclidianDistance(p1, p2):\n",
    "    return math.sqrt( (p1[0] - p2[0])**2 + (p1[1] - p2[1])**2 )\n",
    "\n",
    "def "
   ]
  },
  {
   "cell_type": "code",
   "execution_count": 297,
   "metadata": {},
   "outputs": [],
   "source": [
    "def goCondition(old_centroids, curr_centroids, itter):\n",
    "    if itter >= MAX_ITER: return False    \n",
    "    \n",
    "    ctd = 0\n",
    "    for old_centroid,curr_centroid in zip(old_centroids,curr_centroids):\n",
    "        if abs(old_centroid[0]-curr_centroid[0]) <= 0.001 and\\\n",
    "           abs(old_centroid[1]-curr_centroid[1]) <= 0.001:\n",
    "               ctd += 1\n",
    "    if ctd == len(curr_centroids): return False\n",
    "    \n",
    "    return True\n",
    "    "
   ]
  },
  {
   "cell_type": "code",
   "execution_count": 411,
   "metadata": {},
   "outputs": [],
   "source": [
    "def definePatternship(S, centroids, dist_func):\n",
    "    color = {cen:i for i,cen in enumerate(centroids)}\n",
    "    labels = []\n",
    "    \n",
    "    for p in S:\n",
    "        distances = [(dist_func(p, centroid),centroid) for centroid in centroids]\n",
    "        \n",
    "        closest_centroid = min(distances, key=lambda x: x[0])[1]\n",
    "        \n",
    "        labels.append(color[closest_centroid])\n",
    "    \n",
    "    return labels\n"
   ]
  },
  {
   "cell_type": "code",
   "execution_count": 574,
   "metadata": {},
   "outputs": [],
   "source": [
    "def defineNewCentroids(S, labels):\n",
    "    centroids = dict()\n",
    "    for p,label in zip(S,labels):\n",
    "        if label not in centroids:\n",
    "            centroids[label] = {\"x\":p[0], \"y\":p[1], \"len\":1}\n",
    "        else:\n",
    "            centroids[label][\"x\"] += p[0]\n",
    "            centroids[label][\"y\"] += p[1]\n",
    "            centroids[label][\"len\"] += 1\n",
    " \n",
    "        \n",
    "    return [(c['x']/c['len'], c['y']/c['len']) for c in centroids.values()]\n"
   ]
  },
  {
   "cell_type": "code",
   "execution_count": 584,
   "metadata": {},
   "outputs": [],
   "source": [
    "def kmeans(S, k, dist_func):\n",
    "    x,y = zip(*S)\n",
    "    curr_centroids = [tuple(s) for s in rd.sample(S, k)]\n",
    "    old_centroids  = [tuple(s) for s in rd.sample(S, k)]\n",
    "    itter = 0\n",
    "    \n",
    "    while goCondition(old_centroids, curr_centroids, itter):\n",
    "        old_centroids = curr_centroids       \n",
    "        labels = definePatternship(S, old_centroids, dist_func)\n",
    "        curr_centroids = defineNewCentroids(S, labels)\n",
    "        itter += 1\n",
    "        \n",
    "    print(itter)\n",
    "    return labels,old_centroids\n"
   ]
  },
  {
   "cell_type": "code",
   "execution_count": 592,
   "metadata": {},
   "outputs": [
    {
     "name": "stdout",
     "output_type": "stream",
     "text": [
      "4\n",
      "[0, 0, 0, 0, 1, 1, 1, 1, 1]\n"
     ]
    },
    {
     "data": {
      "image/png": "[encoded data removed]",
      "text/plain": [
       "<Figure size 432x288 with 1 Axes>"
      ]
     },
     "metadata": {
      "needs_background": "light"
     },
     "output_type": "display_data"
    }
   ],
   "source": [
    "document = [[1,1], [2,1], [2,2], [1,3],\\\n",
    "            [3,5], [4,3], [4,4], [5,3],[6,3]]\n",
    "\n",
    "K = 2\n",
    "\n",
    "label, centroids = kmeans(document, K, euclidianDistance)\n",
    "print(label)\n",
    "plotter(document, centroids, label)\n"
   ]
  },
  {
   "cell_type": "code",
   "execution_count": null,
   "metadata": {},
   "outputs": [],
   "source": []
  },
  {
   "cell_type": "code",
   "execution_count": null,
   "metadata": {},
   "outputs": [],
   "source": []
  },
  {
   "cell_type": "code",
   "execution_count": null,
   "metadata": {},
   "outputs": [],
   "source": []
  },
  {
   "cell_type": "code",
   "execution_count": null,
   "metadata": {},
   "outputs": [],
   "source": []
  },
  {
   "cell_type": "code",
   "execution_count": null,
   "metadata": {},
   "outputs": [],
   "source": []
  },
  {
   "cell_type": "code",
   "execution_count": null,
   "metadata": {},
   "outputs": [],
   "source": []
  },
  {
   "cell_type": "code",
   "execution_count": null,
   "metadata": {},
   "outputs": [],
   "source": []
  },
  {
   "cell_type": "code",
   "execution_count": null,
   "metadata": {},
   "outputs": [],
   "source": []
  },
  {
   "cell_type": "code",
   "execution_count": null,
   "metadata": {},
   "outputs": [],
   "source": []
  },
  {
   "cell_type": "code",
   "execution_count": null,
   "metadata": {},
   "outputs": [],
   "source": []
  }
 ],
 "metadata": {
  "kernelspec": {
   "display_name": "Python 3",
   "language": "python",
   "name": "python3"
  },
  "language_info": {
   "codemirror_mode": {
    "name": "ipython",
    "version": 3
   },
   "file_extension": ".py",
   "mimetype": "text/x-python",
   "name": "python",
   "nbconvert_exporter": "python",
   "pygments_lexer": "ipython3",
   "version": "3.7.1"
  }
 },
 "nbformat": 4,
 "nbformat_minor": 2
}
