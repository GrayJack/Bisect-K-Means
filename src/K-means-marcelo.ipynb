{
 "cells": [
  {
   "cell_type": "markdown",
   "metadata": {},
   "source": [
    "# Uma análise de eficiencia entre *K-means* e *bisecting K-means* \n",
    "\n",
    "A idéia deste projeto é realizar um *benchmark* dos algoritmos K-means e *bisecting K-means* nos *DataSets* Iris e HertDesies.\n",
    "\n"
   ]
  },
  {
   "cell_type": "code",
   "execution_count": 1,
   "metadata": {},
   "outputs": [],
   "source": [
    "from sklearn import metrics\n",
    "from time import time\n",
    "import pandas as pd\n",
    "import numpy as np\n",
    "import matplotlib.pyplot as plt\n",
    "import math\n",
    "import random as rd\n",
    "\n",
    "filepath_trettel = '/home/trettel/Documents/projects/DATALAB/datasets/Iris_Data.csv'\n",
    "filepath_eric = '/home/grayjack/MySources/WorkshopML/data/Iris_Data.csv'\n",
    "filepath_marcelo = '/home/maru/Projects/ia_docs/Iris_Data.csv'"
   ]
  },
  {
   "cell_type": "code",
   "execution_count": 2,
   "metadata": {},
   "outputs": [
    {
     "name": "stdout",
     "output_type": "stream",
     "text": [
      "       sepal_length  sepal_width  petal_length  petal_width\n",
      "count    150.000000   150.000000    150.000000   150.000000\n",
      "mean       5.843333     3.054000      3.758667     1.198667\n",
      "std        0.828066     0.433594      1.764420     0.763161\n",
      "min        4.300000     2.000000      1.000000     0.100000\n",
      "25%        5.100000     2.800000      1.600000     0.300000\n",
      "50%        5.800000     3.000000      4.350000     1.300000\n",
      "75%        6.400000     3.300000      5.100000     1.800000\n",
      "max        7.900000     4.400000      6.900000     2.500000\n"
     ]
    }
   ],
   "source": [
    "data = pd.read_csv(filepath_eric)\n",
    "print(data.describe())"
   ]
  },
  {
   "cell_type": "code",
   "execution_count": 3,
   "metadata": {},
   "outputs": [
    {
     "data": {
      "text/html": [
       "<div>\n",
       "<style scoped>\n",
       "    .dataframe tbody tr th:only-of-type {\n",
       "        vertical-align: middle;\n",
       "    }\n",
       "\n",
       "    .dataframe tbody tr th {\n",
       "        vertical-align: top;\n",
       "    }\n",
       "\n",
       "    .dataframe thead tr th {\n",
       "        text-align: left;\n",
       "    }\n",
       "\n",
       "    .dataframe thead tr:last-of-type th {\n",
       "        text-align: right;\n",
       "    }\n",
       "</style>\n",
       "<table border=\"1\" class=\"dataframe\">\n",
       "  <thead>\n",
       "    <tr>\n",
       "      <th></th>\n",
       "      <th colspan=\"2\" halign=\"left\">sepal_length</th>\n",
       "      <th colspan=\"2\" halign=\"left\">sepal_width</th>\n",
       "      <th colspan=\"2\" halign=\"left\">petal_length</th>\n",
       "      <th colspan=\"2\" halign=\"left\">petal_width</th>\n",
       "    </tr>\n",
       "    <tr>\n",
       "      <th></th>\n",
       "      <th>mean</th>\n",
       "      <th>median</th>\n",
       "      <th>mean</th>\n",
       "      <th>median</th>\n",
       "      <th>mean</th>\n",
       "      <th>median</th>\n",
       "      <th>mean</th>\n",
       "      <th>median</th>\n",
       "    </tr>\n",
       "    <tr>\n",
       "      <th>species</th>\n",
       "      <th></th>\n",
       "      <th></th>\n",
       "      <th></th>\n",
       "      <th></th>\n",
       "      <th></th>\n",
       "      <th></th>\n",
       "      <th></th>\n",
       "      <th></th>\n",
       "    </tr>\n",
       "  </thead>\n",
       "  <tbody>\n",
       "    <tr>\n",
       "      <th>Iris-setosa</th>\n",
       "      <td>5.006</td>\n",
       "      <td>5.0</td>\n",
       "      <td>3.418</td>\n",
       "      <td>3.4</td>\n",
       "      <td>1.464</td>\n",
       "      <td>1.50</td>\n",
       "      <td>0.244</td>\n",
       "      <td>0.2</td>\n",
       "    </tr>\n",
       "    <tr>\n",
       "      <th>Iris-versicolor</th>\n",
       "      <td>5.936</td>\n",
       "      <td>5.9</td>\n",
       "      <td>2.770</td>\n",
       "      <td>2.8</td>\n",
       "      <td>4.260</td>\n",
       "      <td>4.35</td>\n",
       "      <td>1.326</td>\n",
       "      <td>1.3</td>\n",
       "    </tr>\n",
       "    <tr>\n",
       "      <th>Iris-virginica</th>\n",
       "      <td>6.588</td>\n",
       "      <td>6.5</td>\n",
       "      <td>2.974</td>\n",
       "      <td>3.0</td>\n",
       "      <td>5.552</td>\n",
       "      <td>5.55</td>\n",
       "      <td>2.026</td>\n",
       "      <td>2.0</td>\n",
       "    </tr>\n",
       "  </tbody>\n",
       "</table>\n",
       "</div>"
      ],
      "text/plain": [
       "                sepal_length        sepal_width        petal_length         \\\n",
       "                        mean median        mean median         mean median   \n",
       "species                                                                      \n",
       "Iris-setosa            5.006    5.0       3.418    3.4        1.464   1.50   \n",
       "Iris-versicolor        5.936    5.9       2.770    2.8        4.260   4.35   \n",
       "Iris-virginica         6.588    6.5       2.974    3.0        5.552   5.55   \n",
       "\n",
       "                petal_width         \n",
       "                       mean median  \n",
       "species                             \n",
       "Iris-setosa           0.244    0.2  \n",
       "Iris-versicolor       1.326    1.3  \n",
       "Iris-virginica        2.026    2.0  "
      ]
     },
     "execution_count": 3,
     "metadata": {},
     "output_type": "execute_result"
    }
   ],
   "source": [
    "data.groupby('species').agg(['mean', 'median'])\n",
    "data.groupby('species').agg([np.mean, np.median])"
   ]
  },
  {
   "cell_type": "code",
   "execution_count": 4,
   "metadata": {},
   "outputs": [
    {
     "data": {
      "text/plain": [
       "<matplotlib.axes._subplots.AxesSubplot at 0x7fe4cad282e8>"
      ]
     },
     "execution_count": 4,
     "metadata": {},
     "output_type": "execute_result"
    },
    {
     "data": {
      "image/png": "[encoded data removed]",
      "text/plain": [
       "<Figure size 432x288 with 2 Axes>"
      ]
     },
     "metadata": {
      "needs_background": "light"
     },
     "output_type": "display_data"
    }
   ],
   "source": [
    "num = {val:i for i,val in enumerate(set(data.species))}\n",
    "y_true = [num[item] for item in data.species]\n",
    "\n",
    "data.plot.scatter(x=\"petal_length\", y=\"petal_width\", c=y_true, colormap='viridis')"
   ]
  },
  {
   "cell_type": "code",
   "execution_count": 5,
   "metadata": {},
   "outputs": [],
   "source": [
    "def plotter(doc, ks, label):\n",
    "    X,Y = zip(*doc)\n",
    "    kx,ky = ks\n",
    "    #print(ks)\n",
    "    plt.scatter(x=X,y=Y, marker='o', c=label)\n",
    "    plt.scatter(x=kx, y=ky, marker='x', color='black', s=150)\n",
    "\n",
    "def plotter2(doc):\n",
    "    X,Y = zip(*doc)\n",
    "    plt.scatter(x=X,y=Y, marker='o')"
   ]
  },
  {
   "cell_type": "code",
   "execution_count": 6,
   "metadata": {},
   "outputs": [],
   "source": [
    "def euclidianDistance(p1, p2):\n",
    "    return math.sqrt( (p1[0] - p2[0])**2 + (p1[1] - p2[1])**2 )\n"
   ]
  },
  {
   "cell_type": "code",
   "execution_count": 7,
   "metadata": {},
   "outputs": [],
   "source": [
    "MAX_ITER = 15\n",
    "def goCondition(old_centroids, curr_centroids, itter):\n",
    "    if itter >= MAX_ITER: return False    \n",
    "    \n",
    "    ctd = 0\n",
    "    for old_centroid,curr_centroid in zip(old_centroids,curr_centroids):\n",
    "        if abs(old_centroid[0]-curr_centroid[0]) <= 0.001 and\\\n",
    "           abs(old_centroid[1]-curr_centroid[1]) <= 0.001:\n",
    "               ctd += 1\n",
    "    if ctd == len(curr_centroids): return False\n",
    "    \n",
    "    return True\n",
    "    "
   ]
  },
  {
   "cell_type": "code",
   "execution_count": 8,
   "metadata": {},
   "outputs": [],
   "source": [
    "def definePatternship(S, centroids, dist_func):\n",
    "    color = {cen:i for i,cen in enumerate(centroids)}\n",
    "    labels = []\n",
    "    \n",
    "    for p in S:\n",
    "        distances = [(dist_func(p, centroid),centroid) for centroid in centroids]\n",
    "        \n",
    "        closest_centroid = min(distances, key=lambda x: x[0])[1]\n",
    "        \n",
    "        labels.append(color[closest_centroid])\n",
    "    \n",
    "    return labels\n"
   ]
  },
  {
   "cell_type": "code",
   "execution_count": 9,
   "metadata": {},
   "outputs": [],
   "source": [
    "def defineNewCentroids(S, labels):\n",
    "    centroids = dict()\n",
    "    for p,label in zip(S,labels):\n",
    "        if label not in centroids:\n",
    "            centroids[label] = {\"x\":p[0], \"y\":p[1], \"len\":1}\n",
    "        else:\n",
    "            centroids[label][\"x\"] += p[0]\n",
    "            centroids[label][\"y\"] += p[1]\n",
    "            centroids[label][\"len\"] += 1\n",
    " \n",
    "        \n",
    "    return [(c['x']/c['len'], c['y']/c['len']) for c in centroids.values()]\n"
   ]
  },
  {
   "cell_type": "code",
   "execution_count": 10,
   "metadata": {},
   "outputs": [],
   "source": [
    "\n",
    "def kmeans(points, k, dist):\n",
    "    l = len(points[0])\n",
    "    c = [[],[]]\n",
    "    sx = max(points[0]) - min(points[0])\n",
    "    sy = max(points[1]) - min(points[1])\n",
    "    for i in range(k):\n",
    "        c[0].append(rd.uniform(min(points[0])-sx, max(points[0])+sx))\n",
    "        c[1].append(rd.uniform(min(points[1])-sy, max(points[1])+sy))\n",
    "    changed = False\n",
    "    while(not changed):\n",
    "        distc = []\n",
    "        closestFlag = []\n",
    "        cUpdaterX = []\n",
    "        cUpdaterY = []\n",
    "        for j in range(k):\n",
    "            distc.append([])\n",
    "            cUpdaterX.append([])\n",
    "            cUpdaterY.append([])\n",
    "            for i in range(l):\n",
    "                distc[j].append(dist((c[0][j],c[1][j]),(points[0][i],points[1][i])))\n",
    "                if(j>0):\n",
    "                    if(distc[j][i]<distc[j-1][i]):\n",
    "                        closestFlag[i] = j\n",
    "                else:\n",
    "                    closestFlag.append(0)\n",
    "        for i in range(l):\n",
    "            cUpdaterX[closestFlag[i]].append(points[0][i])\n",
    "            cUpdaterY[closestFlag[i]].append(points[1][i])\n",
    "        oldC = [c[0][:],c[1][:]]\n",
    "        for i in range(k):\n",
    "            c[0][i] = sum(cUpdaterX[i])/(len(cUpdaterX[i])+0.000000001)\n",
    "            c[1][i] = sum(cUpdaterY[i])/(len(cUpdaterY[i])+0.000000001)\n",
    "        changed = oldC==c\n",
    "    \n",
    "    distc = []\n",
    "    closestFlag = []\n",
    "    for j in range(k):\n",
    "        distc.append([])\n",
    "        for i in range(l):\n",
    "            distc[j].append(dist((c[0][j],c[1][j]),(points[0][i],points[1][i])))\n",
    "            if(j>0):\n",
    "                if(distc[j][i]<distc[j-1][i]):\n",
    "                    closestFlag[i] = j\n",
    "            else:\n",
    "                closestFlag.append(0)\n",
    "    return closestFlag, c"
   ]
  },
  {
   "cell_type": "code",
   "execution_count": 11,
   "metadata": {},
   "outputs": [
    {
     "name": "stdout",
     "output_type": "stream",
     "text": [
      "Melhor valor para o K:   32\n",
      "Obtendo uma acurácia de: 0.8641855068202222 (v_measure_score)\n",
      "tempo: 1.6518604755401611\n"
     ]
    },
    {
     "data": {
      "image/png": "[encoded data removed]",
      "text/plain": [
       "<Figure size 432x288 with 1 Axes>"
      ]
     },
     "metadata": {
      "needs_background": "light"
     },
     "output_type": "display_data"
    }
   ],
   "source": [
    "document = [[pl, pw] for pl,pw in zip(list(data.petal_length), list(data.petal_width))]\n",
    "\n",
    "best_accuracy = -1\n",
    "best_centr = None\n",
    "y_pred = []\n",
    "best_label = []\n",
    "best_k = 0\n",
    "inicial = time()\n",
    "\n",
    "# for _ in range(30):\n",
    "for K in range(1, 50):\n",
    "    y_pred, centroids = kmeans(list(zip(*document)), 50, euclidianDistance)\n",
    "\n",
    "#     accuracy = metrics.adjusted_rand_score(y_true, y_pred)\n",
    "    try:\n",
    "       accuracy = metrics.v_measure_score(y_true, y_pred)\n",
    "    except:\n",
    "       print(y_pred)\n",
    "\n",
    "\n",
    "    if accuracy >= best_accuracy:\n",
    "        best_accuracy = accuracy\n",
    "        best_centr = centroids\n",
    "        best_k = K\n",
    "        best_label = y_pred\n",
    "\n",
    "final = time()\n",
    "print(f\"Melhor valor para o K:   {best_k}\\nObtendo uma acurácia de: {best_accuracy} (v_measure_score)\")\n",
    "print(f\"tempo: {final-inicial}\")\n",
    "plotter(document, best_centr, best_label)\n"
   ]
  },
  {
   "cell_type": "code",
   "execution_count": 12,
   "metadata": {},
   "outputs": [
    {
     "name": "stdout",
     "output_type": "stream",
     "text": [
      "Time: 0.232452392578125\n",
      "\n",
      "Gráfico: K por Acurácia\n"
     ]
    },
    {
     "data": {
      "image/png": "[encoded data removed]",
      "text/plain": [
       "<Figure size 432x288 with 1 Axes>"
      ]
     },
     "metadata": {
      "needs_background": "light"
     },
     "output_type": "display_data"
    }
   ],
   "source": [
    "doc =[[pl, pw] for pl,pw in zip(list(data.petal_length), list(data.petal_width))]\n",
    "document = []\n",
    "\n",
    "inicio = time()\n",
    "for K in range(1, 20):\n",
    "    y_pred, _ = kmeans(list(zip(*doc)), K, euclidianDistance)\n",
    "\n",
    "#     accuracy = metrics.adjusted_rand_score(y_true, y_pred)\n",
    "#     accuracy = metrics.v_measure_score(y_true, y_pred)\n",
    "    try:\n",
    "        accuracy = metrics.v_measure_score(y_true, y_pred)\n",
    "    except:\n",
    "        print(y_pred)\n",
    "\n",
    "    document.append((K, accuracy))\n",
    "\n",
    "final = time()\n",
    "\n",
    "plotter2(document)\n",
    "\n",
    "print(f\"Time: {final-inicio}\\n\\nGráfico: K por Acurácia\")"
   ]
  }
 ],
 "metadata": {
  "kernelspec": {
   "display_name": "Python 3",
   "language": "python",
   "name": "python3"
  },
  "language_info": {
   "codemirror_mode": {
    "name": "ipython",
    "version": 3
   },
   "file_extension": ".py",
   "mimetype": "text/x-python",
   "name": "python",
   "nbconvert_exporter": "python",
   "pygments_lexer": "ipython3",
   "version": "3.7.1"
  }
 },
 "nbformat": 4,
 "nbformat_minor": 2
}
