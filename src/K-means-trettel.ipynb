{
 "cells": [
  {
   "cell_type": "markdown",
   "metadata": {},
   "source": [
    "# *K-means* e *bisecting K-means* \n",
    "\n",
    "O objetivo deste projeto é realizar uma análise qualitative entre o K-means e o bisecting K-means. As bases de dados utilizadas serão a [Iris Dataset](https://archive.ics.uci.edu/ml/datasets/iris) e o [Wine Dataset](http://archive.ics.uci.edu/ml/datasets/Wine).\n",
    "\n",
    "O pré-processamento e o estudo da redução de dimensionalidade foram efetuados no \n"
   ]
  },
  {
   "cell_type": "code",
   "execution_count": 113,
   "metadata": {},
   "outputs": [],
   "source": [
    "from sklearn import metrics\n",
    "from time    import time\n",
    "from math    import sqrt\n",
    "import pandas            as pd\n",
    "import numpy             as np\n",
    "import seaborn           as sns\n",
    "import matplotlib.pyplot as plt\n",
    "import random            as rd\n",
    "    \n",
    "# Argumentos e pré-definições do seaborn\n",
    "flatui = [\"#9b59b6\", \"#3498db\", \"#95a5a6\", \"#e74c3c\", \"#34495e\", \"#2ecc71\"]\n",
    "sns.set(style=\"ticks\")\n",
    "\n",
    "filepath_iris = '../data/Iris-norm.csv'\n",
    "filepath_wine = '../data/wine.csv'\n",
    "\n",
    "iris_df = pd.read_csv(filepath_iris)"
   ]
  },
  {
   "cell_type": "code",
   "execution_count": 114,
   "metadata": {},
   "outputs": [],
   "source": [
    "def plotter(doc, ks, label):\n",
    "    X,Y = zip(*doc)\n",
    "    kx,ky = zip(*ks)\n",
    "    plt.scatter(x=X,y=Y, marker='o', c=label, cmap='gist_rainbow')\n",
    "    plt.scatter(x=kx, y=ky, marker='x', color='black', s=150)\n",
    "\n",
    "    \n",
    "def plotter2(doc):\n",
    "    X,Y = zip(*doc)\n",
    "    plt.scatter(x=X,y=Y, marker='o', cmap='gist_rainbow')\n",
    "    "
   ]
  },
  {
   "cell_type": "code",
   "execution_count": 115,
   "metadata": {},
   "outputs": [],
   "source": [
    "def euclidianDistance(p1, p2):\n",
    "    return sqrt( (p1[0] - p2[0])**2 + (p1[1] - p2[1])**2 )"
   ]
  },
  {
   "cell_type": "code",
   "execution_count": 116,
   "metadata": {},
   "outputs": [],
   "source": [
    "MAX_ITER = 15\n",
    "def goCondition(old_centroids, curr_centroids, itter):\n",
    "    if itter >= MAX_ITER: return False    \n",
    "    \n",
    "    ctd = 0\n",
    "    for old_centroid,curr_centroid in zip(old_centroids,curr_centroids):\n",
    "        if abs(old_centroid[0]-curr_centroid[0]) <= 0.001 and\\\n",
    "           abs(old_centroid[1]-curr_centroid[1]) <= 0.001:\n",
    "               ctd += 1\n",
    "    if ctd == len(curr_centroids): return False\n",
    "    \n",
    "    return True"
   ]
  },
  {
   "cell_type": "code",
   "execution_count": 117,
   "metadata": {},
   "outputs": [],
   "source": [
    "def defineNewCentroids(S, old_centroids, dist_func):\n",
    "    color = {cen:i for i,cen in enumerate(old_centroids)}\n",
    "    \n",
    "    centroids = dict()\n",
    "    labels = []\n",
    "    \n",
    "    for p in S:\n",
    "        distances = [(dist_func(p, centroid), centroid) for centroid in old_centroids]\n",
    "        closest_centroid = min(distances, key=lambda x: x[0])[1]\n",
    "        \n",
    "        label = color[closest_centroid]\n",
    "        labels.append(label)\n",
    "        \n",
    "        if label not in centroids:\n",
    "            centroids[label] = {\"x\":p[0], \"y\":p[1], \"len\":1}\n",
    "        else:\n",
    "            centroids[label][\"x\"] += p[0]\n",
    "            centroids[label][\"y\"] += p[1]\n",
    "            centroids[label][\"len\"] += 1\n",
    " \n",
    "    new_centroids = [(c['x']/c['len'], c['y']/c['len']) for c in centroids.values()]\n",
    "\n",
    "    return new_centroids,labels"
   ]
  },
  {
   "cell_type": "code",
   "execution_count": 118,
   "metadata": {},
   "outputs": [],
   "source": [
    "\n",
    "def kmeans(S, k, dist_func):\n",
    "    curr_centroids = [tuple(s) for s in rd.sample(S, k)]\n",
    "    old_centroids  = [tuple(s) for s in rd.sample(S, k)]\n",
    "    itter = 0\n",
    "    \n",
    "    while goCondition(old_centroids, curr_centroids, itter):\n",
    "        old_centroids = curr_centroids       \n",
    "        curr_centroids,predicted = defineNewCentroids(S, old_centroids, dist_func)\n",
    "        itter += 1\n",
    "        \n",
    "    return predicted,old_centroids"
   ]
  },
  {
   "cell_type": "code",
   "execution_count": null,
   "metadata": {},
   "outputs": [],
   "source": []
  },
  {
   "cell_type": "code",
   "execution_count": 149,
   "metadata": {},
   "outputs": [
    {
     "name": "stdout",
     "output_type": "stream",
     "text": [
      "Melhor valor para o K:   3\n",
      "Obtendo uma acurácia de: 0.8856970310281228 (adjusted_rand_score)\n",
      "Tempo: 0.7315771579742432\n"
     ]
    },
    {
     "data": {
      "image/png": "[encoded data removed]",
      "text/plain": [
       "<Figure size 432x288 with 1 Axes>"
      ]
     },
     "metadata": {},
     "output_type": "display_data"
    }
   ],
   "source": [
    "document = np.array(iris_df[iris_df.columns[1:-1]]).tolist()\n",
    "\n",
    "maping = {key:count for count,key in enumerate(iris_df.species)}\n",
    "y_true = [maping[i] for i in iris_df.species]\n",
    "\n",
    "best_accuracy = -2\n",
    "best_centr = []\n",
    "best_k = -1\n",
    "best_label = []\n",
    "inicio = time()\n",
    "\n",
    "for K in range(1, 40):\n",
    "    y_pred, centroids = kmeans(document, K, euclidianDistance)\n",
    "    \n",
    "    accuracy = metrics.adjusted_rand_score(y_true, y_pred)\n",
    "#     accuracy = metrics.v_measure_score(y_true, y_pred)\n",
    "\n",
    "    if accuracy >= best_accuracy:\n",
    "        best_accuracy = accuracy\n",
    "        best_centr = centroids\n",
    "        best_k = K\n",
    "        best_label = y_pred\n",
    "\n",
    "    final = time()\n",
    "    \n",
    "print(f\"Melhor valor para o K:   {3}\\nObtendo uma acurácia de: {best_accuracy} (adjusted_rand_score)\\nTempo: {final-inicio}\")\n",
    "plotter(document, best_centr, best_label)"
   ]
  },
  {
   "cell_type": "code",
   "execution_count": 151,
   "metadata": {},
   "outputs": [
    {
     "name": "stdout",
     "output_type": "stream",
     "text": [
      "Time: 0.7561638355255127\n",
      "\n",
      "Gráfico: K por Acurácia\n"
     ]
    },
    {
     "data": {
      "image/png": "[encoded data removed]",
      "text/plain": [
       "<Figure size 432x288 with 1 Axes>"
      ]
     },
     "metadata": {},
     "output_type": "display_data"
    }
   ],
   "source": [
    "k_acc = []\n",
    "\n",
    "inicio = time()\n",
    "for K in range(1, 40):\n",
    "    y_pred, _ = kmeans(document, K, euclidianDistance)\n",
    "\n",
    "    accuracy = metrics.adjusted_rand_score(y_true, y_pred)\n",
    "    \n",
    "#     accuracy = metrics.v_measure_score(y_true, y_pred)\n",
    "    k_acc.append([K, accuracy])\n",
    "\n",
    "final = time()\n",
    "\n",
    "plotter2(k_acc)\n",
    "\n",
    "print(f\"Time: {final-inicio}\\n\\nGráfico: K por Acurácia\")"
   ]
  },
  {
   "cell_type": "code",
   "execution_count": null,
   "metadata": {},
   "outputs": [],
   "source": []
  }
 ],
 "metadata": {
  "kernelspec": {
   "display_name": "Python 3",
   "language": "python",
   "name": "python3"
  },
  "language_info": {
   "codemirror_mode": {
    "name": "ipython",
    "version": 3
   },
   "file_extension": ".py",
   "mimetype": "text/x-python",
   "name": "python",
   "nbconvert_exporter": "python",
   "pygments_lexer": "ipython3",
   "version": "3.7.1"
  }
 },
 "nbformat": 4,
 "nbformat_minor": 2
}
